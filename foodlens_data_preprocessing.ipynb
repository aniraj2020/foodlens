{
 "cells": [
  {
   "cell_type": "code",
   "execution_count": 56,
   "id": "62be5a52",
   "metadata": {},
   "outputs": [],
   "source": [
    "#importing required packages\n",
    "import pandas as pd\n",
    "import requests\n",
    "import os\n"
   ]
  },
  {
   "cell_type": "code",
   "execution_count": 57,
   "id": "2c342795",
   "metadata": {},
   "outputs": [],
   "source": [
    "# Create 'data' folder if not exists\n",
    "os.makedirs(\"data\", exist_ok=True)\n",
    "\n",
    "# Base API URL\n",
    "url_use = \"https://data.melbourne.vic.gov.au/api/explore/v2.1/catalog/datasets/{dataset_id}/exports/json\"\n",
    "\n",
    "# List of dataset IDs (2018–2023)\n",
    "DATASET_IDS = [\n",
    "    \"social-indicators-for-city-of-melbourne-residents-2023\",\n",
    "    \"social-indicators-for-city-of-melbourne-residents-2022\",\n",
    "    \"social-indicators-for-city-of-melbourne-residents-2021\",\n",
    "    \"social-indicators-for-city-of-melbourne-residents-2020\",\n",
    "    \"social-indicators-for-city-of-melbourne-residents-2019\",\n",
    "    \"social-indicators-for-city-of-melbourne-residents-2018\"\n",
    "]\n",
    "\n",
    "all_years_data = []\n"
   ]
  },
  {
   "cell_type": "code",
   "execution_count": 58,
   "id": "f1f95f62",
   "metadata": {},
   "outputs": [
    {
     "name": "stdout",
     "output_type": "stream",
     "text": [
      "Fetching data for social-indicators-for-city-of-melbourne-residents-2023...\n",
      "Fetched 90 records.\n",
      "Fetching data for social-indicators-for-city-of-melbourne-residents-2022...\n",
      "Fetched 90 records.\n",
      "Fetching data for social-indicators-for-city-of-melbourne-residents-2021...\n",
      "Fetched 72 records.\n",
      "Fetching data for social-indicators-for-city-of-melbourne-residents-2020...\n",
      "Fetched 72 records.\n",
      "Fetching data for social-indicators-for-city-of-melbourne-residents-2019...\n",
      "Fetched 72 records.\n",
      "Fetching data for social-indicators-for-city-of-melbourne-residents-2018...\n",
      "Fetched 72 records.\n"
     ]
    }
   ],
   "source": [
    "# Step 2: Fetch and Filter Food Security Data\n",
    "for dataset_id in DATASET_IDS:\n",
    "    print(f\"Fetching data for {dataset_id}...\")\n",
    "    dataset_url = url_use.format(dataset_id=dataset_id)\n",
    "    response = requests.get(dataset_url)\n",
    "\n",
    "    if response.status_code != 200:\n",
    "        print(f\"Error fetching {dataset_id}: HTTP {response.status_code}\")\n",
    "        continue\n",
    "\n",
    "    data = response.json()\n",
    "    if not data:\n",
    "        print(f\"No data found for {dataset_id}\")\n",
    "        continue\n",
    "\n",
    "    df = pd.DataFrame(data)\n",
    "    if \"topic\" in df.columns:\n",
    "        df = df[df[\"topic\"].str.contains(\"Food security\", na=False)]\n",
    "\n",
    "    all_years_data.extend(df.to_dict(\"records\"))\n",
    "    print(f\"Fetched {len(df)} records.\")\n"
   ]
  },
  {
   "cell_type": "code",
   "execution_count": 59,
   "id": "1050cb15",
   "metadata": {},
   "outputs": [
    {
     "name": "stdout",
     "output_type": "stream",
     "text": [
      "\n",
      "Combined raw data saved to 'data/food_security_all_years.csv'.\n"
     ]
    },
    {
     "data": {
      "application/vnd.microsoft.datawrangler.viewer.v0+json": {
       "columns": [
        {
         "name": "index",
         "rawType": "int64",
         "type": "integer"
        },
        {
         "name": "indicator",
         "rawType": "object",
         "type": "string"
        },
        {
         "name": "type",
         "rawType": "object",
         "type": "string"
        },
        {
         "name": "topic",
         "rawType": "object",
         "type": "string"
        },
        {
         "name": "description",
         "rawType": "object",
         "type": "string"
        },
        {
         "name": "response",
         "rawType": "object",
         "type": "string"
        },
        {
         "name": "respondent_group",
         "rawType": "object",
         "type": "string"
        },
        {
         "name": "year",
         "rawType": "object",
         "type": "string"
        },
        {
         "name": "sample_size",
         "rawType": "int64",
         "type": "integer"
        },
        {
         "name": "result",
         "rawType": "float64",
         "type": "float"
        },
        {
         "name": "format",
         "rawType": "object",
         "type": "string"
        },
        {
         "name": "respondent_group0",
         "rawType": "object",
         "type": "unknown"
        }
       ],
       "conversionMethod": "pd.DataFrame",
       "ref": "fa5782da-4eeb-417d-8156-f2ee998a9372",
       "rows": [
        [
         "0",
         "6",
         "Council Plan Indicator",
         "Food security",
         "Experienced food insecurity (worried food would run out and/or skipped meals and/or ran out of food and/or accessed emergency food relief services)",
         "Yes, in the last 12 months",
         "18-24 years",
         "2023",
         "274",
         "51.7",
         "Per cent",
         null
        ],
        [
         "1",
         "6",
         "Council Plan Indicator",
         "Food security",
         "Experienced food insecurity (worried food would run out and/or skipped meals and/or ran out of food and/or accessed emergency food relief services)",
         "Yes, in the last 12 months",
         "35-44 years",
         "2023",
         "229",
         "27.4",
         "Per cent",
         null
        ],
        [
         "2",
         "6",
         "Council Plan Indicator",
         "Food security",
         "Experienced food insecurity (worried food would run out and/or skipped meals and/or ran out of food and/or accessed emergency food relief services)",
         "Yes, in the last 12 months",
         "45-54 years",
         "2023",
         "128",
         "15.9",
         "Per cent",
         null
        ],
        [
         "3",
         "6",
         "Council Plan Indicator",
         "Food security",
         "Experienced food insecurity (worried food would run out and/or skipped meals and/or ran out of food and/or accessed emergency food relief services)",
         "Yes, in the last 12 months",
         "Female",
         "2023",
         "761",
         "34.8",
         "Per cent",
         null
        ],
        [
         "4",
         "6",
         "Council Plan Indicator",
         "Food security",
         "Experienced food insecurity (worried food would run out and/or skipped meals and/or ran out of food and/or accessed emergency food relief services)",
         "Yes, in the last 12 months",
         "City of Melbourne",
         "2023",
         "1376",
         "31.7",
         "Per cent",
         null
        ]
       ],
       "shape": {
        "columns": 11,
        "rows": 5
       }
      },
      "text/html": [
       "<div>\n",
       "<style scoped>\n",
       "    .dataframe tbody tr th:only-of-type {\n",
       "        vertical-align: middle;\n",
       "    }\n",
       "\n",
       "    .dataframe tbody tr th {\n",
       "        vertical-align: top;\n",
       "    }\n",
       "\n",
       "    .dataframe thead th {\n",
       "        text-align: right;\n",
       "    }\n",
       "</style>\n",
       "<table border=\"1\" class=\"dataframe\">\n",
       "  <thead>\n",
       "    <tr style=\"text-align: right;\">\n",
       "      <th></th>\n",
       "      <th>indicator</th>\n",
       "      <th>type</th>\n",
       "      <th>topic</th>\n",
       "      <th>description</th>\n",
       "      <th>response</th>\n",
       "      <th>respondent_group</th>\n",
       "      <th>year</th>\n",
       "      <th>sample_size</th>\n",
       "      <th>result</th>\n",
       "      <th>format</th>\n",
       "      <th>respondent_group0</th>\n",
       "    </tr>\n",
       "  </thead>\n",
       "  <tbody>\n",
       "    <tr>\n",
       "      <th>0</th>\n",
       "      <td>6</td>\n",
       "      <td>Council Plan Indicator</td>\n",
       "      <td>Food security</td>\n",
       "      <td>Experienced food insecurity (worried food woul...</td>\n",
       "      <td>Yes, in the last 12 months</td>\n",
       "      <td>18-24 years</td>\n",
       "      <td>2023</td>\n",
       "      <td>274</td>\n",
       "      <td>51.7</td>\n",
       "      <td>Per cent</td>\n",
       "      <td>NaN</td>\n",
       "    </tr>\n",
       "    <tr>\n",
       "      <th>1</th>\n",
       "      <td>6</td>\n",
       "      <td>Council Plan Indicator</td>\n",
       "      <td>Food security</td>\n",
       "      <td>Experienced food insecurity (worried food woul...</td>\n",
       "      <td>Yes, in the last 12 months</td>\n",
       "      <td>35-44 years</td>\n",
       "      <td>2023</td>\n",
       "      <td>229</td>\n",
       "      <td>27.4</td>\n",
       "      <td>Per cent</td>\n",
       "      <td>NaN</td>\n",
       "    </tr>\n",
       "    <tr>\n",
       "      <th>2</th>\n",
       "      <td>6</td>\n",
       "      <td>Council Plan Indicator</td>\n",
       "      <td>Food security</td>\n",
       "      <td>Experienced food insecurity (worried food woul...</td>\n",
       "      <td>Yes, in the last 12 months</td>\n",
       "      <td>45-54 years</td>\n",
       "      <td>2023</td>\n",
       "      <td>128</td>\n",
       "      <td>15.9</td>\n",
       "      <td>Per cent</td>\n",
       "      <td>NaN</td>\n",
       "    </tr>\n",
       "    <tr>\n",
       "      <th>3</th>\n",
       "      <td>6</td>\n",
       "      <td>Council Plan Indicator</td>\n",
       "      <td>Food security</td>\n",
       "      <td>Experienced food insecurity (worried food woul...</td>\n",
       "      <td>Yes, in the last 12 months</td>\n",
       "      <td>Female</td>\n",
       "      <td>2023</td>\n",
       "      <td>761</td>\n",
       "      <td>34.8</td>\n",
       "      <td>Per cent</td>\n",
       "      <td>NaN</td>\n",
       "    </tr>\n",
       "    <tr>\n",
       "      <th>4</th>\n",
       "      <td>6</td>\n",
       "      <td>Council Plan Indicator</td>\n",
       "      <td>Food security</td>\n",
       "      <td>Experienced food insecurity (worried food woul...</td>\n",
       "      <td>Yes, in the last 12 months</td>\n",
       "      <td>City of Melbourne</td>\n",
       "      <td>2023</td>\n",
       "      <td>1376</td>\n",
       "      <td>31.7</td>\n",
       "      <td>Per cent</td>\n",
       "      <td>NaN</td>\n",
       "    </tr>\n",
       "  </tbody>\n",
       "</table>\n",
       "</div>"
      ],
      "text/plain": [
       "  indicator                    type          topic  \\\n",
       "0         6  Council Plan Indicator  Food security   \n",
       "1         6  Council Plan Indicator  Food security   \n",
       "2         6  Council Plan Indicator  Food security   \n",
       "3         6  Council Plan Indicator  Food security   \n",
       "4         6  Council Plan Indicator  Food security   \n",
       "\n",
       "                                         description  \\\n",
       "0  Experienced food insecurity (worried food woul...   \n",
       "1  Experienced food insecurity (worried food woul...   \n",
       "2  Experienced food insecurity (worried food woul...   \n",
       "3  Experienced food insecurity (worried food woul...   \n",
       "4  Experienced food insecurity (worried food woul...   \n",
       "\n",
       "                     response   respondent_group  year  sample_size  result  \\\n",
       "0  Yes, in the last 12 months        18-24 years  2023          274    51.7   \n",
       "1  Yes, in the last 12 months        35-44 years  2023          229    27.4   \n",
       "2  Yes, in the last 12 months        45-54 years  2023          128    15.9   \n",
       "3  Yes, in the last 12 months             Female  2023          761    34.8   \n",
       "4  Yes, in the last 12 months  City of Melbourne  2023         1376    31.7   \n",
       "\n",
       "     format respondent_group0  \n",
       "0  Per cent               NaN  \n",
       "1  Per cent               NaN  \n",
       "2  Per cent               NaN  \n",
       "3  Per cent               NaN  \n",
       "4  Per cent               NaN  "
      ]
     },
     "metadata": {},
     "output_type": "display_data"
    }
   ],
   "source": [
    "# Step 3: Combine and Save Initial Dataset\n",
    "all_df = pd.DataFrame(all_years_data)\n",
    "\n",
    "# Save first raw fetch\n",
    "all_df.to_csv(\"data/food_security_all_years.csv\", index=False)\n",
    "print(\"\\nCombined raw data saved to 'data/food_security_all_years.csv'.\")\n",
    "\n",
    "# Show preview\n",
    "display(all_df.head())\n"
   ]
  },
  {
   "cell_type": "code",
   "execution_count": 60,
   "id": "b923b392",
   "metadata": {},
   "outputs": [
    {
     "data": {
      "text/plain": [
       "(468, 11)"
      ]
     },
     "execution_count": 60,
     "metadata": {},
     "output_type": "execute_result"
    }
   ],
   "source": [
    "all_df.shape"
   ]
  },
  {
   "cell_type": "code",
   "execution_count": 61,
   "id": "186e1dcd",
   "metadata": {},
   "outputs": [
    {
     "name": "stdout",
     "output_type": "stream",
     "text": [
      "Missing values:\n",
      " indicator              0\n",
      "type                   0\n",
      "topic                  0\n",
      "description            0\n",
      "response               0\n",
      "respondent_group      72\n",
      "year                   0\n",
      "sample_size            0\n",
      "result                 0\n",
      "format                 0\n",
      "respondent_group0    396\n",
      "dtype: int64\n",
      "Data Types:\n",
      " indicator             object\n",
      "type                  object\n",
      "topic                 object\n",
      "description           object\n",
      "response              object\n",
      "respondent_group      object\n",
      "year                  object\n",
      "sample_size            int64\n",
      "result               float64\n",
      "format                object\n",
      "respondent_group0     object\n",
      "dtype: object\n"
     ]
    }
   ],
   "source": [
    "#checking missing values\n",
    "missing_values = all_df.isnull().sum()\n",
    "print(\"Missing values:\\n\", missing_values)\n",
    "\n",
    "#data types\n",
    "data_types = all_df.dtypes\n",
    "print(\"Data Types:\\n\", data_types)"
   ]
  },
  {
   "cell_type": "markdown",
   "id": "d02f1838",
   "metadata": {},
   "source": [
    "* respondent_group    72\n",
    "* respondent_group0    396 empty\n",
    "* total record = 468\n",
    "* difference = 72\n",
    "* checked the fetched dataset after merging csv\n",
    "* also print where all the respondent_group0 and respondent_group are empty.\n",
    "* probably for those 72 records missing for respondent_group, the relevant data is in respondent_group"
   ]
  },
  {
   "cell_type": "code",
   "execution_count": 62,
   "id": "eb0c281d",
   "metadata": {},
   "outputs": [
    {
     "name": "stdout",
     "output_type": "stream",
     "text": [
      "Number of records where respondent_group is null but respondent_group0 is not: 72\n",
      "Sample records where respondent_group is null but respondent_group0 is not:\n",
      "    indicator                    type          topic  \\\n",
      "180         6  Council Plan Indicator  Food security   \n",
      "181         6  Council Plan Indicator  Food security   \n",
      "182         6  Council Plan Indicator  Food security   \n",
      "183         6  Council Plan Indicator  Food security   \n",
      "184         6  Council Plan Indicator  Food security   \n",
      "\n",
      "                                           description  \\\n",
      "180  Experienced food insecurity (worried food woul...   \n",
      "181  Experienced food insecurity (worried food woul...   \n",
      "182  Experienced food insecurity (worried food woul...   \n",
      "183  Experienced food insecurity (worried food woul...   \n",
      "184  Experienced food insecurity (worried food woul...   \n",
      "\n",
      "                       response respondent_group  year  sample_size  result  \\\n",
      "180  Yes, in the last 12 months              NaN  2021          416    32.5   \n",
      "181  Yes, in the last 12 months              NaN  2021          194    17.1   \n",
      "182  Yes, in the last 12 months              NaN  2021           80    32.0   \n",
      "183  Yes, in the last 12 months              NaN  2021          136    44.3   \n",
      "184  Yes, in the last 12 months              NaN  2021         1372    33.3   \n",
      "\n",
      "       format  respondent_group0  \n",
      "180  Per cent        25-34 years  \n",
      "181  Per cent        35-44 years  \n",
      "182  Per cent        55-64 years  \n",
      "183  Per cent       Carlton 3053  \n",
      "184  Per cent  City of Melbourne  \n",
      "\n",
      "************************************\n",
      "\n",
      "Number of records where respondent_group0 is null but respondent_group is not: 396\n",
      "Sample records where respondent_group0 is null but respondent_group is not:\n",
      "  indicator                    type          topic  \\\n",
      "0         6  Council Plan Indicator  Food security   \n",
      "1         6  Council Plan Indicator  Food security   \n",
      "2         6  Council Plan Indicator  Food security   \n",
      "3         6  Council Plan Indicator  Food security   \n",
      "4         6  Council Plan Indicator  Food security   \n",
      "\n",
      "                                         description  \\\n",
      "0  Experienced food insecurity (worried food woul...   \n",
      "1  Experienced food insecurity (worried food woul...   \n",
      "2  Experienced food insecurity (worried food woul...   \n",
      "3  Experienced food insecurity (worried food woul...   \n",
      "4  Experienced food insecurity (worried food woul...   \n",
      "\n",
      "                     response   respondent_group  year  sample_size  result  \\\n",
      "0  Yes, in the last 12 months        18-24 years  2023          274    51.7   \n",
      "1  Yes, in the last 12 months        35-44 years  2023          229    27.4   \n",
      "2  Yes, in the last 12 months        45-54 years  2023          128    15.9   \n",
      "3  Yes, in the last 12 months             Female  2023          761    34.8   \n",
      "4  Yes, in the last 12 months  City of Melbourne  2023         1376    31.7   \n",
      "\n",
      "     format respondent_group0  \n",
      "0  Per cent               NaN  \n",
      "1  Per cent               NaN  \n",
      "2  Per cent               NaN  \n",
      "3  Per cent               NaN  \n",
      "4  Per cent               NaN  \n"
     ]
    }
   ],
   "source": [
    "#checking where only respondent_group is null\n",
    "respondent_group_null = all_df[all_df['respondent_group'].isnull() & all_df['respondent_group0'].notnull()]\n",
    "print(f\"Number of records where respondent_group is null but respondent_group0 is not: {len(respondent_group_null)}\")\n",
    "if len(respondent_group_null) > 0:\n",
    "    print(\"Sample records where respondent_group is null but respondent_group0 is not:\")\n",
    "    print(respondent_group_null.head())\n",
    "\n",
    "print(\"\\n************************************\\n\")\n",
    "\n",
    "#checking where only respondent_group0 is null\n",
    "respondent_group0_null = all_df[all_df['respondent_group0'].isnull() & all_df['respondent_group'].notnull()]\n",
    "print(f\"Number of records where respondent_group0 is null but respondent_group is not: {len(respondent_group0_null)}\")\n",
    "if len(respondent_group0_null) > 0:\n",
    "    print(\"Sample records where respondent_group0 is null but respondent_group is not:\")\n",
    "    print(respondent_group0_null.head())"
   ]
  },
  {
   "cell_type": "markdown",
   "id": "1668501a",
   "metadata": {},
   "source": [
    "* from above observed result and cross checking the dataset in a `.csv` format, I can see for `year 2021` dataset, `respondent_group` column is empty (for 72 records).\n",
    "* so, instead the data for those 72 records of `year 2021` is in `respondent_group0` column. And hence other than 72 records, the rest 396 (498-72) records are empty in the case of `respondent_group0`, as those are stored in `respondent_group` column.\n",
    "* so now i will proceed to combine these two column in one unifined column as `respondent_group`"
   ]
  },
  {
   "cell_type": "code",
   "execution_count": 63,
   "id": "e0ffc898",
   "metadata": {},
   "outputs": [
    {
     "name": "stdout",
     "output_type": "stream",
     "text": [
      "Missing values:\n",
      " indicator           0\n",
      "type                0\n",
      "topic               0\n",
      "description         0\n",
      "response            0\n",
      "respondent_group    0\n",
      "year                0\n",
      "sample_size         0\n",
      "result              0\n",
      "format              0\n",
      "dtype: int64\n",
      "\n",
      "All data saved to 'food_security_corrected_all_years.csv'.\n",
      "  indicator                    type          topic  \\\n",
      "0         6  Council Plan Indicator  Food security   \n",
      "1         6  Council Plan Indicator  Food security   \n",
      "2         6  Council Plan Indicator  Food security   \n",
      "3         6  Council Plan Indicator  Food security   \n",
      "4         6  Council Plan Indicator  Food security   \n",
      "\n",
      "                                         description  \\\n",
      "0  Experienced food insecurity (worried food woul...   \n",
      "1  Experienced food insecurity (worried food woul...   \n",
      "2  Experienced food insecurity (worried food woul...   \n",
      "3  Experienced food insecurity (worried food woul...   \n",
      "4  Experienced food insecurity (worried food woul...   \n",
      "\n",
      "                     response   respondent_group  year  sample_size  result  \\\n",
      "0  Yes, in the last 12 months        18-24 years  2023          274    51.7   \n",
      "1  Yes, in the last 12 months        35-44 years  2023          229    27.4   \n",
      "2  Yes, in the last 12 months        45-54 years  2023          128    15.9   \n",
      "3  Yes, in the last 12 months             Female  2023          761    34.8   \n",
      "4  Yes, in the last 12 months  City of Melbourne  2023         1376    31.7   \n",
      "\n",
      "     format  \n",
      "0  Per cent  \n",
      "1  Per cent  \n",
      "2  Per cent  \n",
      "3  Per cent  \n",
      "4  Per cent  \n"
     ]
    }
   ],
   "source": [
    "#combining respondent_group and respondent_group0 into a unified column\n",
    "all_df['respondent_group'] = all_df['respondent_group'].combine_first(all_df['respondent_group0'])\n",
    "\n",
    "#droping the respondent_group0 column as it is not needed now post combination\n",
    "all_df.drop(columns=['respondent_group0'], inplace=True)\n",
    "\n",
    "#verifying \n",
    "missing_values = all_df.isnull().sum()\n",
    "print(\"Missing values:\\n\", missing_values)\n",
    "\n",
    "#saving for comparing and verifying with the previous fetched data \n",
    "all_df.to_csv(\"data/food_security_corrected_all_years.csv\", index=False)\n",
    "print(\"\\nAll data saved to 'food_security_corrected_all_years.csv'.\")\n",
    "\n",
    "# Preview the updated DataFrame\n",
    "print(all_df.head())"
   ]
  },
  {
   "cell_type": "code",
   "execution_count": 64,
   "id": "8a0cfa26",
   "metadata": {},
   "outputs": [
    {
     "name": "stdout",
     "output_type": "stream",
     "text": [
      "Filtered Data Sample:\n",
      "                                          description   respondent_group  year  \\\n",
      "0  Experienced food insecurity (worried food woul...        18-24 years  2023   \n",
      "1  Experienced food insecurity (worried food woul...        35-44 years  2023   \n",
      "2  Experienced food insecurity (worried food woul...        45-54 years  2023   \n",
      "3  Experienced food insecurity (worried food woul...             Female  2023   \n",
      "4  Experienced food insecurity (worried food woul...  City of Melbourne  2023   \n",
      "\n",
      "   sample_size  result  \n",
      "0          274    51.7  \n",
      "1          229    27.4  \n",
      "2          128    15.9  \n",
      "3          761    34.8  \n",
      "4         1376    31.7  \n"
     ]
    }
   ],
   "source": [
    "#dropping uneccessary columns\n",
    "all_df = all_df.drop(columns=['indicator', 'type', 'topic', 'response', 'format'])\n",
    "\n",
    "print(\"Filtered Data Sample:\\n\", all_df.head())"
   ]
  },
  {
   "cell_type": "code",
   "execution_count": 65,
   "id": "b2fd1f33",
   "metadata": {},
   "outputs": [
    {
     "name": "stdout",
     "output_type": "stream",
     "text": [
      "\n",
      "Counts of unique values in each column:\n",
      " {'description': 6, 'respondent_group': 21, 'year': 6, 'sample_size': 222, 'result': 266}\n"
     ]
    }
   ],
   "source": [
    "#unique values in each columns\n",
    "unique_counts = {col: len(all_df[col].unique()) for col in all_df.columns}\n",
    "print(\"\\nCounts of unique values in each column:\\n\", unique_counts)"
   ]
  },
  {
   "cell_type": "code",
   "execution_count": 66,
   "id": "ca78446c",
   "metadata": {},
   "outputs": [
    {
     "name": "stdout",
     "output_type": "stream",
     "text": [
      "Unique values in DESCRIPTION:\n",
      " ['Experienced food insecurity (worried food would run out and/or skipped meals and/or ran out of food and/or accessed emergency food relief services)'\n",
      " 'Worried food would run out' 'Skipped meals' 'Ran out of food'\n",
      " 'Accessed emergency food relief services'\n",
      " 'Experienced food insecurity (worried food would run out and/or skipped meals and/or ran out of food)']\n",
      "\n",
      "Unique values in YEAR:\n",
      " ['2023' '2022' '2021' '2020' '2019' '2018']\n",
      "\n",
      "Unique values in RESPONDENT GROUP:\n",
      " ['18-24 years' '35-44 years' '45-54 years' 'Female' 'City of Melbourne'\n",
      " 'North Melbourne 3051 / West Melbourne 3003'\n",
      " 'South Wharf / Southbank 3006'\n",
      " 'South Yarra 3141 / Melbourne/St Kilda Road 3004' '65+ years'\n",
      " 'Carlton 3053' 'Kensington / Flemington 3031' 'Melbourne 3000'\n",
      " 'Parkville 3052' 'Docklands 3008' 'East Melbourne 3002' 'Male'\n",
      " '55-64 years' '25-34 years' 'Kensington/ Flemingon 3031'\n",
      " 'Southbank/ South Wharf 3006'\n",
      " 'South Yarra 3141 / Melbourne (St Kilda Road) 3004']\n"
     ]
    }
   ],
   "source": [
    "#checking for decription, year, respondent group\n",
    "unique_descriptions = all_df['description'].unique()\n",
    "unique_years = all_df['year'].unique()\n",
    "unique_respondent_groups = all_df['respondent_group'].unique()\n",
    "\n",
    "print(\"Unique values in DESCRIPTION:\\n\", unique_descriptions)\n",
    "print(\"\\nUnique values in YEAR:\\n\", unique_years)\n",
    "print(\"\\nUnique values in RESPONDENT GROUP:\\n\", unique_respondent_groups)"
   ]
  },
  {
   "cell_type": "code",
   "execution_count": 67,
   "id": "7c45223a",
   "metadata": {},
   "outputs": [
    {
     "name": "stdout",
     "output_type": "stream",
     "text": [
      "Unique values in RESPONDENT GROUP after correction:\n",
      " ['18-24 years' '35-44 years' '45-54 years' 'Female' 'City of Melbourne'\n",
      " 'North Melbourne 3051 / West Melbourne 3003'\n",
      " 'South Wharf / Southbank 3006'\n",
      " 'South Yarra 3141 / Melbourne/St Kilda Road 3004' '65+ years'\n",
      " 'Carlton 3053' 'Kensington / Flemington 3031' 'Melbourne 3000'\n",
      " 'Parkville 3052' 'Docklands 3008' 'East Melbourne 3002' 'Male'\n",
      " '55-64 years' '25-34 years']\n",
      "\n",
      "Count of unique values:  18\n"
     ]
    }
   ],
   "source": [
    "#replacing the inconsistent values\n",
    "#Kensington/ Flemingon 3031 with Kensington / Flemington 3031\n",
    "#Southbank/ South Wharf 3006 with South Wharf / Southbank 3006\n",
    "#South Yarra 3141 / Melbourne (St Kilda Road) 3004 with South Yarra 3141 / Melbourne/St Kilda Road 3004\n",
    "\n",
    "all_df['respondent_group'] = all_df['respondent_group'].replace({\n",
    "    'Kensington/ Flemingon 3031': 'Kensington / Flemington 3031',\n",
    "    'Southbank/ South Wharf 3006': 'South Wharf / Southbank 3006',\n",
    "    'South Yarra 3141 / Melbourne (St Kilda Road) 3004': 'South Yarra 3141 / Melbourne/St Kilda Road 3004'\n",
    "})\n",
    "\n",
    "#lets verify\n",
    "print(\"Unique values in RESPONDENT GROUP after correction:\\n\", all_df['respondent_group'].unique())\n",
    "print(\"\\nCount of unique values: \",len(all_df['respondent_group'].unique()))"
   ]
  },
  {
   "cell_type": "code",
   "execution_count": 69,
   "id": "e840b8a0",
   "metadata": {},
   "outputs": [
    {
     "data": {
      "application/vnd.microsoft.datawrangler.viewer.v0+json": {
       "columns": [
        {
         "name": "index",
         "rawType": "int64",
         "type": "integer"
        },
        {
         "name": "description",
         "rawType": "object",
         "type": "string"
        },
        {
         "name": "respondent_group",
         "rawType": "object",
         "type": "string"
        },
        {
         "name": "year",
         "rawType": "object",
         "type": "string"
        },
        {
         "name": "sample_size",
         "rawType": "int64",
         "type": "integer"
        },
        {
         "name": "result",
         "rawType": "float64",
         "type": "float"
        }
       ],
       "conversionMethod": "pd.DataFrame",
       "ref": "16d485b9-acf7-468f-af2e-8ab07d29b73b",
       "rows": [
        [
         "0",
         "Experienced food insecurity (worried food would run out and/or skipped meals and/or ran out of food and/or accessed emergency food relief services)",
         "18-24 years",
         "2023",
         "274",
         "51.7"
        ],
        [
         "1",
         "Experienced food insecurity (worried food would run out and/or skipped meals and/or ran out of food and/or accessed emergency food relief services)",
         "35-44 years",
         "2023",
         "229",
         "27.4"
        ],
        [
         "2",
         "Experienced food insecurity (worried food would run out and/or skipped meals and/or ran out of food and/or accessed emergency food relief services)",
         "45-54 years",
         "2023",
         "128",
         "15.9"
        ],
        [
         "3",
         "Experienced food insecurity (worried food would run out and/or skipped meals and/or ran out of food and/or accessed emergency food relief services)",
         "Female",
         "2023",
         "761",
         "34.8"
        ],
        [
         "4",
         "Experienced food insecurity (worried food would run out and/or skipped meals and/or ran out of food and/or accessed emergency food relief services)",
         "City of Melbourne",
         "2023",
         "1376",
         "31.7"
        ]
       ],
       "shape": {
        "columns": 5,
        "rows": 5
       }
      },
      "text/html": [
       "<div>\n",
       "<style scoped>\n",
       "    .dataframe tbody tr th:only-of-type {\n",
       "        vertical-align: middle;\n",
       "    }\n",
       "\n",
       "    .dataframe tbody tr th {\n",
       "        vertical-align: top;\n",
       "    }\n",
       "\n",
       "    .dataframe thead th {\n",
       "        text-align: right;\n",
       "    }\n",
       "</style>\n",
       "<table border=\"1\" class=\"dataframe\">\n",
       "  <thead>\n",
       "    <tr style=\"text-align: right;\">\n",
       "      <th></th>\n",
       "      <th>description</th>\n",
       "      <th>respondent_group</th>\n",
       "      <th>year</th>\n",
       "      <th>sample_size</th>\n",
       "      <th>result</th>\n",
       "    </tr>\n",
       "  </thead>\n",
       "  <tbody>\n",
       "    <tr>\n",
       "      <th>0</th>\n",
       "      <td>Experienced food insecurity (worried food woul...</td>\n",
       "      <td>18-24 years</td>\n",
       "      <td>2023</td>\n",
       "      <td>274</td>\n",
       "      <td>51.7</td>\n",
       "    </tr>\n",
       "    <tr>\n",
       "      <th>1</th>\n",
       "      <td>Experienced food insecurity (worried food woul...</td>\n",
       "      <td>35-44 years</td>\n",
       "      <td>2023</td>\n",
       "      <td>229</td>\n",
       "      <td>27.4</td>\n",
       "    </tr>\n",
       "    <tr>\n",
       "      <th>2</th>\n",
       "      <td>Experienced food insecurity (worried food woul...</td>\n",
       "      <td>45-54 years</td>\n",
       "      <td>2023</td>\n",
       "      <td>128</td>\n",
       "      <td>15.9</td>\n",
       "    </tr>\n",
       "    <tr>\n",
       "      <th>3</th>\n",
       "      <td>Experienced food insecurity (worried food woul...</td>\n",
       "      <td>Female</td>\n",
       "      <td>2023</td>\n",
       "      <td>761</td>\n",
       "      <td>34.8</td>\n",
       "    </tr>\n",
       "    <tr>\n",
       "      <th>4</th>\n",
       "      <td>Experienced food insecurity (worried food woul...</td>\n",
       "      <td>City of Melbourne</td>\n",
       "      <td>2023</td>\n",
       "      <td>1376</td>\n",
       "      <td>31.7</td>\n",
       "    </tr>\n",
       "  </tbody>\n",
       "</table>\n",
       "</div>"
      ],
      "text/plain": [
       "                                         description   respondent_group  year  \\\n",
       "0  Experienced food insecurity (worried food woul...        18-24 years  2023   \n",
       "1  Experienced food insecurity (worried food woul...        35-44 years  2023   \n",
       "2  Experienced food insecurity (worried food woul...        45-54 years  2023   \n",
       "3  Experienced food insecurity (worried food woul...             Female  2023   \n",
       "4  Experienced food insecurity (worried food woul...  City of Melbourne  2023   \n",
       "\n",
       "   sample_size  result  \n",
       "0          274    51.7  \n",
       "1          229    27.4  \n",
       "2          128    15.9  \n",
       "3          761    34.8  \n",
       "4         1376    31.7  "
      ]
     },
     "execution_count": 69,
     "metadata": {},
     "output_type": "execute_result"
    }
   ],
   "source": [
    "all_df.head()"
   ]
  },
  {
   "cell_type": "code",
   "execution_count": 70,
   "id": "34c992e2",
   "metadata": {},
   "outputs": [
    {
     "name": "stdout",
     "output_type": "stream",
     "text": [
      "Mapped insecurity_type successfully.\n"
     ]
    },
    {
     "data": {
      "application/vnd.microsoft.datawrangler.viewer.v0+json": {
       "columns": [
        {
         "name": "index",
         "rawType": "int64",
         "type": "integer"
        },
        {
         "name": "description",
         "rawType": "object",
         "type": "string"
        },
        {
         "name": "insecurity_type",
         "rawType": "object",
         "type": "string"
        }
       ],
       "conversionMethod": "pd.DataFrame",
       "ref": "2534d7f4-c3ea-4d85-98db-2f9f4a32cbf1",
       "rows": [
        [
         "0",
         "Experienced food insecurity (worried food would run out and/or skipped meals and/or ran out of food and/or accessed emergency food relief services)",
         "Insecurity (multiple concerns + relief)"
        ],
        [
         "8",
         "Worried food would run out",
         "Worried food would run out"
        ],
        [
         "17",
         "Skipped meals",
         "Skipped meals"
        ],
        [
         "23",
         "Ran out of food",
         "Ran out of food"
        ],
        [
         "31",
         "Accessed emergency food relief services",
         "Accessed food relief services"
        ],
        [
         "180",
         "Experienced food insecurity (worried food would run out and/or skipped meals and/or ran out of food)",
         "Insecurity (multiple concerns)"
        ]
       ],
       "shape": {
        "columns": 2,
        "rows": 6
       }
      },
      "text/html": [
       "<div>\n",
       "<style scoped>\n",
       "    .dataframe tbody tr th:only-of-type {\n",
       "        vertical-align: middle;\n",
       "    }\n",
       "\n",
       "    .dataframe tbody tr th {\n",
       "        vertical-align: top;\n",
       "    }\n",
       "\n",
       "    .dataframe thead th {\n",
       "        text-align: right;\n",
       "    }\n",
       "</style>\n",
       "<table border=\"1\" class=\"dataframe\">\n",
       "  <thead>\n",
       "    <tr style=\"text-align: right;\">\n",
       "      <th></th>\n",
       "      <th>description</th>\n",
       "      <th>insecurity_type</th>\n",
       "    </tr>\n",
       "  </thead>\n",
       "  <tbody>\n",
       "    <tr>\n",
       "      <th>0</th>\n",
       "      <td>Experienced food insecurity (worried food woul...</td>\n",
       "      <td>Insecurity (multiple concerns + relief)</td>\n",
       "    </tr>\n",
       "    <tr>\n",
       "      <th>8</th>\n",
       "      <td>Worried food would run out</td>\n",
       "      <td>Worried food would run out</td>\n",
       "    </tr>\n",
       "    <tr>\n",
       "      <th>17</th>\n",
       "      <td>Skipped meals</td>\n",
       "      <td>Skipped meals</td>\n",
       "    </tr>\n",
       "    <tr>\n",
       "      <th>23</th>\n",
       "      <td>Ran out of food</td>\n",
       "      <td>Ran out of food</td>\n",
       "    </tr>\n",
       "    <tr>\n",
       "      <th>31</th>\n",
       "      <td>Accessed emergency food relief services</td>\n",
       "      <td>Accessed food relief services</td>\n",
       "    </tr>\n",
       "    <tr>\n",
       "      <th>180</th>\n",
       "      <td>Experienced food insecurity (worried food woul...</td>\n",
       "      <td>Insecurity (multiple concerns)</td>\n",
       "    </tr>\n",
       "  </tbody>\n",
       "</table>\n",
       "</div>"
      ],
      "text/plain": [
       "                                           description  \\\n",
       "0    Experienced food insecurity (worried food woul...   \n",
       "8                           Worried food would run out   \n",
       "17                                       Skipped meals   \n",
       "23                                     Ran out of food   \n",
       "31             Accessed emergency food relief services   \n",
       "180  Experienced food insecurity (worried food woul...   \n",
       "\n",
       "                             insecurity_type  \n",
       "0    Insecurity (multiple concerns + relief)  \n",
       "8                 Worried food would run out  \n",
       "17                             Skipped meals  \n",
       "23                           Ran out of food  \n",
       "31             Accessed food relief services  \n",
       "180           Insecurity (multiple concerns)  "
      ]
     },
     "metadata": {},
     "output_type": "display_data"
    }
   ],
   "source": [
    "# Step 7: Map description to clean insecurity_type\n",
    "insecurity_mapping = {\n",
    "    \"Ran out of food\": \"Ran out of food\",\n",
    "    \"Skipped meals\": \"Skipped meals\",\n",
    "    \"Worried food would run out\": \"Worried food would run out\",\n",
    "    \"Experienced food insecurity (worried food would run out and/or skipped meals and/or ran out of food)\": \"Insecurity (multiple concerns)\",\n",
    "    \"Experienced food insecurity (worried food would run out and/or skipped meals and/or ran out of food and/or accessed emergency food relief services)\": \"Insecurity (multiple concerns + relief)\",\n",
    "    \"Accessed emergency food relief services\": \"Accessed food relief services\"\n",
    "}\n",
    "\n",
    "# Map and create new column\n",
    "all_df['insecurity_type'] = all_df['description'].map(insecurity_mapping)\n",
    "print(\"Mapped insecurity_type successfully.\")\n",
    "\n",
    "# Preview\n",
    "display(all_df[['description', 'insecurity_type']].drop_duplicates())\n"
   ]
  },
  {
   "cell_type": "code",
   "execution_count": 71,
   "id": "836fdfb7",
   "metadata": {},
   "outputs": [
    {
     "name": "stdout",
     "output_type": "stream",
     "text": [
      "Cleaned dataset saved at → data/cleaned_food_security.csv\n",
      "Final shape: (468, 6)\n"
     ]
    },
    {
     "data": {
      "application/vnd.microsoft.datawrangler.viewer.v0+json": {
       "columns": [
        {
         "name": "index",
         "rawType": "int64",
         "type": "integer"
        },
        {
         "name": "description",
         "rawType": "object",
         "type": "string"
        },
        {
         "name": "respondent_group",
         "rawType": "object",
         "type": "string"
        },
        {
         "name": "year",
         "rawType": "object",
         "type": "string"
        },
        {
         "name": "sample_size",
         "rawType": "int64",
         "type": "integer"
        },
        {
         "name": "result",
         "rawType": "float64",
         "type": "float"
        },
        {
         "name": "insecurity_type",
         "rawType": "object",
         "type": "string"
        }
       ],
       "conversionMethod": "pd.DataFrame",
       "ref": "1b1c8bfe-11b7-4da4-8443-993ea462bba4",
       "rows": [
        [
         "0",
         "Experienced food insecurity (worried food would run out and/or skipped meals and/or ran out of food and/or accessed emergency food relief services)",
         "18-24 years",
         "2023",
         "274",
         "51.7",
         "Insecurity (multiple concerns + relief)"
        ],
        [
         "1",
         "Experienced food insecurity (worried food would run out and/or skipped meals and/or ran out of food and/or accessed emergency food relief services)",
         "35-44 years",
         "2023",
         "229",
         "27.4",
         "Insecurity (multiple concerns + relief)"
        ],
        [
         "2",
         "Experienced food insecurity (worried food would run out and/or skipped meals and/or ran out of food and/or accessed emergency food relief services)",
         "45-54 years",
         "2023",
         "128",
         "15.9",
         "Insecurity (multiple concerns + relief)"
        ],
        [
         "3",
         "Experienced food insecurity (worried food would run out and/or skipped meals and/or ran out of food and/or accessed emergency food relief services)",
         "Female",
         "2023",
         "761",
         "34.8",
         "Insecurity (multiple concerns + relief)"
        ],
        [
         "4",
         "Experienced food insecurity (worried food would run out and/or skipped meals and/or ran out of food and/or accessed emergency food relief services)",
         "City of Melbourne",
         "2023",
         "1376",
         "31.7",
         "Insecurity (multiple concerns + relief)"
        ]
       ],
       "shape": {
        "columns": 6,
        "rows": 5
       }
      },
      "text/html": [
       "<div>\n",
       "<style scoped>\n",
       "    .dataframe tbody tr th:only-of-type {\n",
       "        vertical-align: middle;\n",
       "    }\n",
       "\n",
       "    .dataframe tbody tr th {\n",
       "        vertical-align: top;\n",
       "    }\n",
       "\n",
       "    .dataframe thead th {\n",
       "        text-align: right;\n",
       "    }\n",
       "</style>\n",
       "<table border=\"1\" class=\"dataframe\">\n",
       "  <thead>\n",
       "    <tr style=\"text-align: right;\">\n",
       "      <th></th>\n",
       "      <th>description</th>\n",
       "      <th>respondent_group</th>\n",
       "      <th>year</th>\n",
       "      <th>sample_size</th>\n",
       "      <th>result</th>\n",
       "      <th>insecurity_type</th>\n",
       "    </tr>\n",
       "  </thead>\n",
       "  <tbody>\n",
       "    <tr>\n",
       "      <th>0</th>\n",
       "      <td>Experienced food insecurity (worried food woul...</td>\n",
       "      <td>18-24 years</td>\n",
       "      <td>2023</td>\n",
       "      <td>274</td>\n",
       "      <td>51.7</td>\n",
       "      <td>Insecurity (multiple concerns + relief)</td>\n",
       "    </tr>\n",
       "    <tr>\n",
       "      <th>1</th>\n",
       "      <td>Experienced food insecurity (worried food woul...</td>\n",
       "      <td>35-44 years</td>\n",
       "      <td>2023</td>\n",
       "      <td>229</td>\n",
       "      <td>27.4</td>\n",
       "      <td>Insecurity (multiple concerns + relief)</td>\n",
       "    </tr>\n",
       "    <tr>\n",
       "      <th>2</th>\n",
       "      <td>Experienced food insecurity (worried food woul...</td>\n",
       "      <td>45-54 years</td>\n",
       "      <td>2023</td>\n",
       "      <td>128</td>\n",
       "      <td>15.9</td>\n",
       "      <td>Insecurity (multiple concerns + relief)</td>\n",
       "    </tr>\n",
       "    <tr>\n",
       "      <th>3</th>\n",
       "      <td>Experienced food insecurity (worried food woul...</td>\n",
       "      <td>Female</td>\n",
       "      <td>2023</td>\n",
       "      <td>761</td>\n",
       "      <td>34.8</td>\n",
       "      <td>Insecurity (multiple concerns + relief)</td>\n",
       "    </tr>\n",
       "    <tr>\n",
       "      <th>4</th>\n",
       "      <td>Experienced food insecurity (worried food woul...</td>\n",
       "      <td>City of Melbourne</td>\n",
       "      <td>2023</td>\n",
       "      <td>1376</td>\n",
       "      <td>31.7</td>\n",
       "      <td>Insecurity (multiple concerns + relief)</td>\n",
       "    </tr>\n",
       "  </tbody>\n",
       "</table>\n",
       "</div>"
      ],
      "text/plain": [
       "                                         description   respondent_group  year  \\\n",
       "0  Experienced food insecurity (worried food woul...        18-24 years  2023   \n",
       "1  Experienced food insecurity (worried food woul...        35-44 years  2023   \n",
       "2  Experienced food insecurity (worried food woul...        45-54 years  2023   \n",
       "3  Experienced food insecurity (worried food woul...             Female  2023   \n",
       "4  Experienced food insecurity (worried food woul...  City of Melbourne  2023   \n",
       "\n",
       "   sample_size  result                          insecurity_type  \n",
       "0          274    51.7  Insecurity (multiple concerns + relief)  \n",
       "1          229    27.4  Insecurity (multiple concerns + relief)  \n",
       "2          128    15.9  Insecurity (multiple concerns + relief)  \n",
       "3          761    34.8  Insecurity (multiple concerns + relief)  \n",
       "4         1376    31.7  Insecurity (multiple concerns + relief)  "
      ]
     },
     "execution_count": 71,
     "metadata": {},
     "output_type": "execute_result"
    }
   ],
   "source": [
    "#final dataset\n",
    "final_path = \"data/cleaned_food_security.csv\"\n",
    "all_df.to_csv(final_path, index=False)\n",
    "\n",
    "print(f\"Cleaned dataset saved at → {final_path}\")\n",
    "print(f\"Final shape: {all_df.shape}\")\n",
    "all_df.head()\n"
   ]
  },
  {
   "cell_type": "code",
   "execution_count": null,
   "id": "4d450167",
   "metadata": {},
   "outputs": [],
   "source": []
  }
 ],
 "metadata": {
  "kernelspec": {
   "display_name": "base",
   "language": "python",
   "name": "python3"
  },
  "language_info": {
   "codemirror_mode": {
    "name": "ipython",
    "version": 3
   },
   "file_extension": ".py",
   "mimetype": "text/x-python",
   "name": "python",
   "nbconvert_exporter": "python",
   "pygments_lexer": "ipython3",
   "version": "3.12.2"
  }
 },
 "nbformat": 4,
 "nbformat_minor": 5
}
